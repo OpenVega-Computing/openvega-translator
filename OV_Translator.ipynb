{
  "nbformat": 4,
  "nbformat_minor": 0,
  "metadata": {
    "colab": {
      "name": "OV-Translator.ipynb",
      "provenance": [],
      "collapsed_sections": []
    },
    "kernelspec": {
      "name": "python3",
      "display_name": "Python 3"
    }
  },
  "cells": [
    {
      "cell_type": "code",
      "metadata": {
        "id": "E9M25XOfDDW_"
      },
      "source": [
        "import pandas as pd\r\n",
        "import numpy as np\r\n",
        "import tensorflow as tf\r\n",
        "from sklearn.metrics import confusion_matrix\r\n",
        "from sklearn.feature_extraction.text import CountVectorizer\r\n",
        "from sklearn.preprocessing import LabelEncoder\r\n",
        "import matplotlib.pyplot as plt\r\n",
        "import seaborn as sns\r\n",
        "from sklearn.metrics import accuracy_score,confusion_matrix\r\n",
        "from keras.utils import np_utils\r\n",
        "from tensorflow import keras\r\n",
        "from tensorflow.keras import layers"
      ],
      "execution_count": null,
      "outputs": []
    },
    {
      "cell_type": "code",
      "metadata": {
        "id": "kKs51iVsDb1h"
      },
      "source": [
        "#!wget https://downloads.tatoeba.org/exports/sentences.csv"
      ],
      "execution_count": null,
      "outputs": []
    },
    {
      "cell_type": "code",
      "metadata": {
        "id": "kkgRrVe9Dd_K"
      },
      "source": [
        "data = pd.read_csv('/content/sentences.csv',\r\n",
        "                            sep='\\t', \r\n",
        "                            encoding='utf8', \r\n",
        "                            index_col=0,\r\n",
        "                            names=['lang','text'])\r\n",
        "\r\n",
        "#Filter by text length\r\n",
        "len_cond = [True if 20<=len(s)<=200 else False for s in data['text']]\r\n",
        "data = data[len_cond]\r\n",
        "\r\n",
        "#Filter by text language\r\n",
        "lang = ['eng','rus','ita','tur','epo','deu']\r\n",
        "data = data[data['lang'].isin(lang)]\r\n",
        "\r\n",
        "#Select 50000 rows for each language\r\n",
        "data_trim = pd.DataFrame(columns=['lang','text'])\r\n",
        "\r\n",
        "for l in lang:\r\n",
        "    lang_trim = data[data['lang'] ==l].sample(40000,random_state = 100)\r\n",
        "    data_trim = data_trim.append(lang_trim)\r\n",
        "\r\n",
        "#Create a random train, valid, test split\r\n",
        "data_shuffle = data_trim.sample(frac=1)\r\n",
        "\r\n",
        "size = int(len(data_shuffle)*0.1)\r\n",
        "train = data_shuffle[0:(size*7)]\r\n",
        "valid = data_shuffle[(size*7):(size*9)]\r\n",
        "test = data_shuffle[(size*9):]"
      ],
      "execution_count": null,
      "outputs": []
    },
    {
      "cell_type": "code",
      "metadata": {
        "id": "amo6Hos9EKm5"
      },
      "source": [
        "def get_trigrams(corpus,n_feat=200):\r\n",
        "    \"\"\"\r\n",
        "    Returns a list of the N most common character trigrams from a list of sentences\r\n",
        "    params\r\n",
        "    ------------\r\n",
        "        corpus: list of strings\r\n",
        "        n_feat: integer\r\n",
        "    \"\"\"\r\n",
        "    \r\n",
        "    #fit the n-gram model\r\n",
        "    vectorizer = CountVectorizer(analyzer='char',\r\n",
        "                            ngram_range=(3, 3)\r\n",
        "                            ,max_features=n_feat)\r\n",
        "    \r\n",
        "    X = vectorizer.fit_transform(corpus)\r\n",
        "    \r\n",
        "    #Get model feature names\r\n",
        "    feature_names = vectorizer.get_feature_names()\r\n",
        "    \r\n",
        "    return feature_names"
      ],
      "execution_count": null,
      "outputs": []
    },
    {
      "cell_type": "code",
      "metadata": {
        "id": "BjJ7MZBuEK2Y"
      },
      "source": [
        "\r\n",
        "#obtain trigrams from each language\r\n",
        "features = {}\r\n",
        "features_set = set()\r\n",
        "\r\n",
        "for l in lang:\r\n",
        "    \r\n",
        "    #get corpus filtered by language\r\n",
        "    corpus = train[train.lang==l]['text']\r\n",
        "    \r\n",
        "    #get 200 most frequent trigrams\r\n",
        "    trigrams = get_trigrams(corpus)\r\n",
        "    \r\n",
        "    #add to dict and set\r\n",
        "    features[l] = trigrams \r\n",
        "    features_set.update(trigrams)\r\n",
        "\r\n",
        "    \r\n",
        "#create vocabulary list using feature set\r\n",
        "vocab = dict()\r\n",
        "for i,f in enumerate(features_set):\r\n",
        "    vocab[f]=i"
      ],
      "execution_count": null,
      "outputs": []
    },
    {
      "cell_type": "code",
      "metadata": {
        "id": "_kQfnMd1EK4y"
      },
      "source": [
        "\r\n",
        "#train count vectoriser using vocabulary\r\n",
        "vectorizer = CountVectorizer(analyzer='char',\r\n",
        "                             ngram_range=(3, 3),\r\n",
        "                            vocabulary=vocab)\r\n",
        "\r\n",
        "#create feature matrix for training set\r\n",
        "corpus = train['text']   \r\n",
        "X = vectorizer.fit_transform(corpus)\r\n",
        "feature_names = vectorizer.get_feature_names()\r\n",
        "\r\n",
        "train_feat = pd.DataFrame(data=X.toarray(),columns=feature_names)"
      ],
      "execution_count": null,
      "outputs": []
    },
    {
      "cell_type": "code",
      "metadata": {
        "id": "yEavwInAEK7p"
      },
      "source": [
        "\r\n",
        "#Scale feature matrix \r\n",
        "train_min = train_feat.min()\r\n",
        "train_max = train_feat.max()\r\n",
        "train_feat = (train_feat - train_min)/(train_max-train_min)\r\n",
        "\r\n",
        "#Add target variable \r\n",
        "train_feat['lang'] = list(train['lang'])"
      ],
      "execution_count": null,
      "outputs": []
    },
    {
      "cell_type": "code",
      "metadata": {
        "id": "IMICtqKQfs6K"
      },
      "source": [
        "\r\n",
        "#create feature matrix for validation set\r\n",
        "corpus = valid['text']   \r\n",
        "X = vectorizer.fit_transform(corpus)\r\n",
        "\r\n",
        "valid_feat = pd.DataFrame(data=X.toarray(),columns=feature_names)\r\n",
        "valid_feat = (valid_feat - train_min)/(train_max-train_min)\r\n",
        "valid_feat['lang'] = list(valid['lang'])\r\n",
        "\r\n",
        "#create feature matrix for test set\r\n",
        "corpus = test['text']   \r\n",
        "X = vectorizer.fit_transform(corpus)\r\n",
        "\r\n",
        "test_feat = pd.DataFrame(data=X.toarray(),columns=feature_names)\r\n",
        "test_feat = (test_feat - train_min)/(train_max-train_min)\r\n",
        "test_feat['lang'] = list(test['lang'])"
      ],
      "execution_count": null,
      "outputs": []
    },
    {
      "cell_type": "code",
      "metadata": {
        "id": "pQpCzkUUELAP"
      },
      "source": [
        "#Fit encoder\r\n",
        "encoder = LabelEncoder()\r\n",
        "encoder.fit(['eng','rus','ita','tur','epo','deu'])\r\n",
        "\r\n",
        "def encode(y):\r\n",
        "    \"\"\"\r\n",
        "    Returns a list of one hot encodings\r\n",
        "    Params\r\n",
        "    ---------\r\n",
        "        y: list of language labels\r\n",
        "    \"\"\"\r\n",
        "    \r\n",
        "    y_encoded = encoder.transform(y)\r\n",
        "    y_dummy = np_utils.to_categorical(y_encoded)\r\n",
        "    \r\n",
        "    return y_dummy"
      ],
      "execution_count": null,
      "outputs": []
    },
    {
      "cell_type": "code",
      "metadata": {
        "colab": {
          "base_uri": "https://localhost:8080/"
        },
        "id": "lddlt_FWEYiJ",
        "outputId": "0706e39b-9f04-4e4f-8e5f-98961e2b05f1"
      },
      "source": [
        "#Get training data\r\n",
        "x = train_feat.drop('lang',axis=1)\r\n",
        "y = encode(train_feat['lang'])\r\n",
        "\r\n",
        "#Define model\r\n",
        "model = keras.Sequential()\r\n",
        "model.add(layers.Dense(500, input_dim=911, activation='relu'))\r\n",
        "model.add(layers.Dense(500, activation='relu'))\r\n",
        "model.add(layers.Dense(250, activation='relu'))\r\n",
        "model.add(layers.Dense(6, activation='softmax'))\r\n",
        "model.compile(loss='categorical_crossentropy', optimizer='adam', metrics=['accuracy'])\r\n",
        "\r\n",
        "#Train model\r\n",
        "model.fit(x, y, epochs=4, batch_size=100)"
      ],
      "execution_count": null,
      "outputs": [
        {
          "output_type": "stream",
          "text": [
            "Epoch 1/4\n",
            "1680/1680 [==============================] - 24s 14ms/step - loss: 0.1117 - accuracy: 0.9682\n",
            "Epoch 2/4\n",
            "1680/1680 [==============================] - 23s 14ms/step - loss: 0.0092 - accuracy: 0.9972\n",
            "Epoch 3/4\n",
            "1680/1680 [==============================] - 24s 14ms/step - loss: 0.0056 - accuracy: 0.9983\n",
            "Epoch 4/4\n",
            "1680/1680 [==============================] - 23s 14ms/step - loss: 0.0027 - accuracy: 0.9991\n"
          ],
          "name": "stdout"
        },
        {
          "output_type": "execute_result",
          "data": {
            "text/plain": [
              "<tensorflow.python.keras.callbacks.History at 0x7f3816192dd0>"
            ]
          },
          "metadata": {
            "tags": []
          },
          "execution_count": 17
        }
      ]
    },
    {
      "cell_type": "code",
      "metadata": {
        "id": "AB4ZNbRXEYka",
        "colab": {
          "base_uri": "https://localhost:8080/",
          "height": 714
        },
        "outputId": "3138f00f-2078-42eb-901d-cfd65e9177a5"
      },
      "source": [
        "x_test = test_feat.drop('lang',axis=1)\r\n",
        "y_test = test_feat['lang']\r\n",
        "\r\n",
        "#Get predictions on test set\r\n",
        "labels = model.predict_classes(x_test)\r\n",
        "predictions = encoder.inverse_transform(labels)\r\n",
        "\r\n",
        "#Accuracy on test set\r\n",
        "accuracy = accuracy_score(y_test,predictions)\r\n",
        "print(accuracy)\r\n",
        "\r\n",
        "#Create confusion matrix\r\n",
        "lang = ['deu', 'eng', 'fra', 'ita', 'por', 'spa']\r\n",
        "conf_matrix = confusion_matrix(y_test,predictions)\r\n",
        "conf_matrix_df = pd.DataFrame(conf_matrix,columns=lang,index=lang)\r\n",
        "\r\n",
        "#Plot confusion matrix heatmap\r\n",
        "plt.figure(figsize=(10, 10), facecolor='w', edgecolor='k')\r\n",
        "sns.set(font_scale=1.5)\r\n",
        "sns.heatmap(conf_matrix_df,cmap='coolwarm',annot=True,fmt='.5g',cbar=False)\r\n",
        "plt.xlabel('Predicted',fontsize=22)\r\n",
        "plt.ylabel('Actual',fontsize=22)"
      ],
      "execution_count": null,
      "outputs": [
        {
          "output_type": "stream",
          "text": [
            "/usr/local/lib/python3.7/dist-packages/tensorflow/python/keras/engine/sequential.py:450: UserWarning: `model.predict_classes()` is deprecated and will be removed after 2021-01-01. Please use instead:* `np.argmax(model.predict(x), axis=-1)`,   if your model does multi-class classification   (e.g. if it uses a `softmax` last-layer activation).* `(model.predict(x) > 0.5).astype(\"int32\")`,   if your model does binary classification   (e.g. if it uses a `sigmoid` last-layer activation).\n",
            "  warnings.warn('`model.predict_classes()` is deprecated and '\n"
          ],
          "name": "stderr"
        },
        {
          "output_type": "stream",
          "text": [
            "0.996375\n"
          ],
          "name": "stdout"
        },
        {
          "output_type": "execute_result",
          "data": {
            "text/plain": [
              "Text(58.5, 0.5, 'Actual')"
            ]
          },
          "metadata": {
            "tags": []
          },
          "execution_count": 18
        },
        {
          "output_type": "display_data",
          "data": {
            "image/png": "[encoded data removed]",
            "text/plain": [
              "<Figure size 720x720 with 1 Axes>"
            ]
          },
          "metadata": {
            "tags": []
          }
        }
      ]
    }
  ]
}