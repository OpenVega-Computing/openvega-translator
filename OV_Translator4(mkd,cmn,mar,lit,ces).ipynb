{
  "nbformat": 4,
  "nbformat_minor": 0,
  "metadata": {
    "colab": {
      "name": "OV_Translator4(mkd,cmn,mar,lit,ces).ipynb",
      "provenance": [],
      "collapsed_sections": []
    },
    "kernelspec": {
      "display_name": "Python 3",
      "language": "python",
      "name": "python3"
    },
    "language_info": {
      "codemirror_mode": {
        "name": "ipython",
        "version": 3
      },
      "file_extension": ".py",
      "mimetype": "text/x-python",
      "name": "python",
      "nbconvert_exporter": "python",
      "pygments_lexer": "ipython3",
      "version": "3.8.3"
    }
  },
  "cells": [
    {
      "cell_type": "code",
      "metadata": {
        "id": "E9M25XOfDDW_"
      },
      "source": [
        "\n",
        "import pandas as pd\n",
        "import numpy as np\n",
        "import tensorflow as tf\n",
        "from sklearn.metrics import confusion_matrix\n",
        "from sklearn.feature_extraction.text import CountVectorizer\n",
        "from sklearn.preprocessing import LabelEncoder\n",
        "import matplotlib.pyplot as plt\n",
        "import seaborn as sns\n",
        "from sklearn.metrics import accuracy_score,confusion_matrix\n",
        "from keras.utils import np_utils\n",
        "from tensorflow import keras\n",
        "from tensorflow.keras import layers"
      ],
      "execution_count": null,
      "outputs": []
    },
    {
      "cell_type": "code",
      "metadata": {
        "id": "kKs51iVsDb1h",
        "colab": {
          "base_uri": "https://localhost:8080/"
        },
        "outputId": "88b51cfc-53eb-498f-da0a-e966bc8d2512"
      },
      "source": [
        "#!wget https://downloads.tatoeba.org/exports/sentences.csv"
      ],
      "execution_count": null,
      "outputs": [
        {
          "output_type": "stream",
          "text": [
            "--2021-03-07 14:46:07--  https://downloads.tatoeba.org/exports/sentences.csv\n",
            "Resolving downloads.tatoeba.org (downloads.tatoeba.org)... 94.130.77.194\n",
            "Connecting to downloads.tatoeba.org (downloads.tatoeba.org)|94.130.77.194|:443... connected.\n",
            "HTTP request sent, awaiting response... 200 OK\n",
            "Length: 513713486 (490M) [application/octet-stream]\n",
            "Saving to: ‘sentences.csv’\n",
            "\n",
            "sentences.csv       100%[===================>] 489.92M  19.9MB/s    in 26s     \n",
            "\n",
            "2021-03-07 14:46:33 (19.0 MB/s) - ‘sentences.csv’ saved [513713486/513713486]\n",
            "\n"
          ],
          "name": "stdout"
        }
      ]
    },
    {
      "cell_type": "code",
      "metadata": {
        "id": "kkgRrVe9Dd_K"
      },
      "source": [
        "\n",
        "#Google Colab \n",
        "data = pd.read_csv('/content/sentences.csv',\n",
        "                            sep='\\t', \n",
        "                            encoding='utf8', \n",
        "                            index_col=0,\n",
        "                            names=['lang','text'])\n",
        "\n",
        "\"\"\"\n",
        "#Jupyter\n",
        "data = pd.read_csv('sentences.csv',\n",
        "                            sep='\\t', \n",
        "                            encoding='utf8', \n",
        "                            index_col=0,\n",
        "                            names=['lang','text'])\n",
        "\"\"\"\n",
        "\n",
        "#Filter by text length\n",
        "len_cond = [True if len(s)<=200 else False for s in data['text']]\n",
        "data = data[len_cond]\n",
        "\n",
        "#Filter by text language\n",
        "lang = ['mkd','cmn','mar','lit','ces']\n",
        "data = data[data['lang'].isin(lang)]\n",
        "\n",
        "#Select 50000 rows for each language\n",
        "data_trim = pd.DataFrame(columns=['lang','text'])\n",
        "\n",
        "for l in lang:\n",
        "    lang_trim = data[data['lang'] ==l].sample(40000,random_state = 100)\n",
        "    data_trim = data_trim.append(lang_trim)\n",
        "\n",
        "#Create a random train, valid, test split\n",
        "data_shuffle = data_trim.sample(frac=1)\n",
        "\n",
        "size = int(len(data_shuffle)*0.1)\n",
        "train = data_shuffle[0:(size*7)]\n",
        "valid = data_shuffle[(size*7):(size*9)]\n",
        "test = data_shuffle[(size*9):]"
      ],
      "execution_count": null,
      "outputs": []
    },
    {
      "cell_type": "code",
      "metadata": {
        "id": "amo6Hos9EKm5"
      },
      "source": [
        "def get_trigrams(corpus,n_feat=200):\n",
        "    \"\"\"\n",
        "    Returns a list of the N most common character trigrams from a list of sentences\n",
        "    params\n",
        "    ------------\n",
        "        corpus: list of strings\n",
        "        n_feat: integer\n",
        "    \"\"\"\n",
        "    \n",
        "    #fit the n-gram model\n",
        "    vectorizer = CountVectorizer(analyzer='char',\n",
        "                            ngram_range=(3, 3)\n",
        "                            ,max_features=n_feat)\n",
        "    \n",
        "    X = vectorizer.fit_transform(corpus)\n",
        "    \n",
        "    #Get model feature names\n",
        "    feature_names = vectorizer.get_feature_names()\n",
        "    \n",
        "    return feature_names"
      ],
      "execution_count": null,
      "outputs": []
    },
    {
      "cell_type": "code",
      "metadata": {
        "id": "BjJ7MZBuEK2Y"
      },
      "source": [
        "\n",
        "#obtain trigrams from each language\n",
        "features = {}\n",
        "features_set = set()\n",
        "\n",
        "for l in lang:\n",
        "    \n",
        "    #get corpus filtered by language\n",
        "    corpus = train[train.lang==l]['text']\n",
        "    \n",
        "    #get 200 most frequent trigrams\n",
        "    trigrams = get_trigrams(corpus)\n",
        "    \n",
        "    #add to dict and set\n",
        "    features[l] = trigrams \n",
        "    features_set.update(trigrams)\n",
        "\n",
        "    \n",
        "#create vocabulary list using feature set\n",
        "vocab = dict()\n",
        "for i,f in enumerate(features_set):\n",
        "    vocab[f]=i"
      ],
      "execution_count": null,
      "outputs": []
    },
    {
      "cell_type": "code",
      "metadata": {
        "id": "_kQfnMd1EK4y"
      },
      "source": [
        "\n",
        "#train count vectoriser using vocabulary\n",
        "vectorizer = CountVectorizer(analyzer='char',\n",
        "                             ngram_range=(3, 3),\n",
        "                            vocabulary=vocab)\n",
        "\n",
        "#create feature matrix for training set\n",
        "corpus = train['text']   \n",
        "X = vectorizer.fit_transform(corpus)\n",
        "feature_names = vectorizer.get_feature_names()\n",
        "\n",
        "train_feat = pd.DataFrame(data=X.toarray(),columns=feature_names)"
      ],
      "execution_count": null,
      "outputs": []
    },
    {
      "cell_type": "code",
      "metadata": {
        "id": "yEavwInAEK7p"
      },
      "source": [
        "\n",
        "#Scale feature matrix \n",
        "train_min = train_feat.min()\n",
        "train_max = train_feat.max()\n",
        "train_feat = (train_feat - train_min)/(train_max-train_min)\n",
        "\n",
        "#Add target variable \n",
        "train_feat['lang'] = list(train['lang'])"
      ],
      "execution_count": null,
      "outputs": []
    },
    {
      "cell_type": "code",
      "metadata": {
        "id": "IMICtqKQfs6K"
      },
      "source": [
        "\n",
        "#create feature matrix for validation set\n",
        "corpus = valid['text']   \n",
        "X = vectorizer.fit_transform(corpus)\n",
        "\n",
        "valid_feat = pd.DataFrame(data=X.toarray(),columns=feature_names)\n",
        "valid_feat = (valid_feat - train_min)/(train_max-train_min)\n",
        "valid_feat['lang'] = list(valid['lang'])\n",
        "\n",
        "#create feature matrix for test set\n",
        "corpus = test['text']   \n",
        "X = vectorizer.fit_transform(corpus)\n",
        "\n",
        "test_feat = pd.DataFrame(data=X.toarray(),columns=feature_names)\n",
        "test_feat = (test_feat - train_min)/(train_max-train_min)\n",
        "test_feat['lang'] = list(test['lang'])"
      ],
      "execution_count": null,
      "outputs": []
    },
    {
      "cell_type": "code",
      "metadata": {
        "id": "pQpCzkUUELAP"
      },
      "source": [
        "#Fit encoder\n",
        "encoder = LabelEncoder()\n",
        "encoder.fit(['mkd','cmn','mar','lit','ces'])\n",
        "\n",
        "def encode(y):\n",
        "    \"\"\"\n",
        "    Returns a list of one hot encodings\n",
        "    Params\n",
        "    ---------\n",
        "        y: list of language labels\n",
        "    \"\"\"\n",
        "    \n",
        "    y_encoded = encoder.transform(y)\n",
        "    y_dummy = np_utils.to_categorical(y_encoded)\n",
        "    \n",
        "    return y_dummy"
      ],
      "execution_count": null,
      "outputs": []
    },
    {
      "cell_type": "code",
      "metadata": {
        "colab": {
          "base_uri": "https://localhost:8080/"
        },
        "id": "lddlt_FWEYiJ",
        "outputId": "3aadf6fc-0096-498e-c7a3-8327ae47b7ea"
      },
      "source": [
        "#Get training data\n",
        "x = train_feat.drop('lang',axis=1)\n",
        "y = encode(train_feat['lang'])\n",
        "\n",
        "#Define model\n",
        "model = keras.Sequential()\n",
        "model.add(layers.Dense(500, input_dim=967, activation='relu'))\n",
        "model.add(layers.Dense(500, activation='relu'))\n",
        "model.add(layers.Dense(250, activation='relu'))\n",
        "model.add(layers.Dense(5, activation='softmax'))\n",
        "model.compile(loss='categorical_crossentropy', optimizer='adam', metrics=['accuracy'])\n",
        "\n",
        "#Train model\n",
        "model.fit(x, y, epochs=4, batch_size=100)"
      ],
      "execution_count": null,
      "outputs": [
        {
          "output_type": "stream",
          "text": [
            "Epoch 1/4\n",
            "1400/1400 [==============================] - 20s 14ms/step - loss: 0.1520 - accuracy: 0.9501\n",
            "Epoch 2/4\n",
            "1400/1400 [==============================] - 20s 14ms/step - loss: 0.0421 - accuracy: 0.9909\n",
            "Epoch 3/4\n",
            "1400/1400 [==============================] - 20s 14ms/step - loss: 0.0398 - accuracy: 0.9914\n",
            "Epoch 4/4\n",
            "1400/1400 [==============================] - 20s 14ms/step - loss: 0.0355 - accuracy: 0.9925\n"
          ],
          "name": "stdout"
        },
        {
          "output_type": "execute_result",
          "data": {
            "text/plain": [
              "<tensorflow.python.keras.callbacks.History at 0x7f2110d80dd0>"
            ]
          },
          "metadata": {
            "tags": []
          },
          "execution_count": 13
        }
      ]
    },
    {
      "cell_type": "code",
      "metadata": {
        "colab": {
          "base_uri": "https://localhost:8080/",
          "height": 714
        },
        "id": "AB4ZNbRXEYka",
        "outputId": "8425638c-5fae-43fe-92cd-3558a4f82e5e"
      },
      "source": [
        "x_test = test_feat.drop('lang',axis=1)\n",
        "y_test = test_feat['lang']\n",
        "\n",
        "#Get predictions on test set\n",
        "labels = model.predict_classes(x_test)\n",
        "predictions = encoder.inverse_transform(labels)\n",
        "\n",
        "#Accuracy on test set\n",
        "accuracy = accuracy_score(y_test,predictions)\n",
        "print(accuracy)\n",
        "\n",
        "#Create confusion matrix\n",
        "lang = ['mkd','cmn','mar','lit','ces']\n",
        "conf_matrix = confusion_matrix(y_test,predictions)\n",
        "conf_matrix_df = pd.DataFrame(conf_matrix,columns=lang,index=lang)\n",
        "\n",
        "#Plot confusion matrix heatmap\n",
        "plt.figure(figsize=(10, 10), facecolor='w', edgecolor='k')\n",
        "sns.set(font_scale=1.5)\n",
        "sns.heatmap(conf_matrix_df,cmap='coolwarm',annot=True,fmt='.5g',cbar=False)\n",
        "plt.xlabel('Predicted',fontsize=22)\n",
        "plt.ylabel('Actual',fontsize=22)"
      ],
      "execution_count": null,
      "outputs": [
        {
          "output_type": "stream",
          "text": [
            "/usr/local/lib/python3.7/dist-packages/tensorflow/python/keras/engine/sequential.py:450: UserWarning: `model.predict_classes()` is deprecated and will be removed after 2021-01-01. Please use instead:* `np.argmax(model.predict(x), axis=-1)`,   if your model does multi-class classification   (e.g. if it uses a `softmax` last-layer activation).* `(model.predict(x) > 0.5).astype(\"int32\")`,   if your model does binary classification   (e.g. if it uses a `sigmoid` last-layer activation).\n",
            "  warnings.warn('`model.predict_classes()` is deprecated and '\n"
          ],
          "name": "stderr"
        },
        {
          "output_type": "stream",
          "text": [
            "0.9899\n"
          ],
          "name": "stdout"
        },
        {
          "output_type": "execute_result",
          "data": {
            "text/plain": [
              "Text(58.5, 0.5, 'Actual')"
            ]
          },
          "metadata": {
            "tags": []
          },
          "execution_count": 14
        },
        {
          "output_type": "display_data",
          "data": {
            "image/png": "[encoded data removed]",
            "text/plain": [
              "<Figure size 720x720 with 1 Axes>"
            ]
          },
          "metadata": {
            "tags": []
          }
        }
      ]
    }
  ]
}